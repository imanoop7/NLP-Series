{
 "cells": [
  {
   "cell_type": "code",
   "execution_count": 4,
   "metadata": {},
   "outputs": [],
   "source": [
    "# Stemming is a method in text processing that eliminates prefixes and suffixes from words, transforming them into their fundamental or root form\n",
    "# stemming is the process of reducing a word to its base or root form, e.g. \"running\" -> \"run\"\n",
    "# stemming is useful for search engines, where you want to match different forms of a word\n",
    "# classificatio problems, where you want to match different forms of a word\n",
    "# Reviews, where you want to match different forms of a word to find the sentiment of a review, eg. \"good\" and \"better\" are both positive words.append.\n",
    "# stemming is not perfect, it can sometimes produce words that are not correct, eg. \"happi\" instead of \"happy\""
   ]
  },
  {
   "cell_type": "code",
   "execution_count": 3,
   "metadata": {},
   "outputs": [],
   "source": [
    "words=[\"write\",\"writing\",\"written\",\"wrote\",\"writer\",\"writers\",\"writings\", \"programmer\", \"programmers\", \"programming\", \"programs\", \"programmed\", \"program\", \"programing\", \n",
    "       \"programmable\", \"programmatically\", \"programmatic\",\"eat\",\"eats\",\"eating\",\"ate\",\"eaten\",\"eater\",\"eaters\",\"eatable\",\"eatables\",\"eatery\",\"eateries\",\"eatting\",\"eatted\",\n",
    "       \"eatened\",\"eatens\",\"eaties\",\"eaty\"]"
   ]
  },
  {
   "cell_type": "code",
   "execution_count": 5,
   "metadata": {},
   "outputs": [],
   "source": [
    "from nltk.stem import PorterStemmer\n",
    "stemmer = PorterStemmer()"
   ]
  },
  {
   "cell_type": "code",
   "execution_count": 6,
   "metadata": {},
   "outputs": [
    {
     "name": "stdout",
     "output_type": "stream",
     "text": [
      "write -> write\n",
      "writing -> write\n",
      "written -> written\n",
      "wrote -> wrote\n",
      "writer -> writer\n",
      "writers -> writer\n",
      "writings -> write\n",
      "programmer -> programm\n",
      "programmers -> programm\n",
      "programming -> program\n",
      "programs -> program\n",
      "programmed -> program\n",
      "program -> program\n",
      "programing -> program\n",
      "programmable -> programm\n",
      "programmatically -> programmat\n",
      "programmatic -> programmat\n",
      "eat -> eat\n",
      "eats -> eat\n",
      "eating -> eat\n",
      "ate -> ate\n",
      "eaten -> eaten\n",
      "eater -> eater\n",
      "eaters -> eater\n",
      "eatable -> eatabl\n",
      "eatables -> eatabl\n",
      "eatery -> eateri\n",
      "eateries -> eateri\n",
      "eatting -> eat\n",
      "eatted -> eat\n",
      "eatened -> eaten\n",
      "eatens -> eaten\n",
      "eaties -> eati\n",
      "eaty -> eati\n"
     ]
    }
   ],
   "source": [
    "for word in words:\n",
    "    print(f\"{word} -> {stemmer.stem(word)}\")"
   ]
  },
  {
   "cell_type": "code",
   "execution_count": 7,
   "metadata": {},
   "outputs": [],
   "source": [
    "from nltk.stem import RegexpStemmer\n",
    "stemmer = RegexpStemmer(\"ing$|s$|ed$|er$|able$|ly$|y$|ies$|y$|ed$|en$|ies$|y\", min=4)"
   ]
  },
  {
   "cell_type": "code",
   "execution_count": 9,
   "metadata": {},
   "outputs": [
    {
     "data": {
      "text/plain": [
       "'eat'"
      ]
     },
     "execution_count": 9,
     "metadata": {},
     "output_type": "execute_result"
    }
   ],
   "source": [
    "stemmer.stem(\"eating\")"
   ]
  },
  {
   "cell_type": "code",
   "execution_count": 10,
   "metadata": {},
   "outputs": [
    {
     "data": {
      "text/plain": [
       "'ingeat'"
      ]
     },
     "execution_count": 10,
     "metadata": {},
     "output_type": "execute_result"
    }
   ],
   "source": [
    "stemmer.stem(\"ingeating\")"
   ]
  },
  {
   "cell_type": "code",
   "execution_count": null,
   "metadata": {},
   "outputs": [],
   "source": [
    "# snowball stemmer performs better than porter stemmer"
   ]
  },
  {
   "cell_type": "code",
   "execution_count": 11,
   "metadata": {},
   "outputs": [],
   "source": [
    "from nltk.stem import SnowballStemmer\n",
    "stemmer = SnowballStemmer(\"english\")"
   ]
  },
  {
   "cell_type": "code",
   "execution_count": 12,
   "metadata": {},
   "outputs": [
    {
     "name": "stdout",
     "output_type": "stream",
     "text": [
      "write -> write\n",
      "writing -> write\n",
      "written -> written\n",
      "wrote -> wrote\n",
      "writer -> writer\n",
      "writers -> writer\n",
      "writings -> write\n",
      "programmer -> programm\n",
      "programmers -> programm\n",
      "programming -> program\n",
      "programs -> program\n",
      "programmed -> program\n",
      "program -> program\n",
      "programing -> program\n",
      "programmable -> programm\n",
      "programmatically -> programmat\n",
      "programmatic -> programmat\n",
      "eat -> eat\n",
      "eats -> eat\n",
      "eating -> eat\n",
      "ate -> ate\n",
      "eaten -> eaten\n",
      "eater -> eater\n",
      "eaters -> eater\n",
      "eatable -> eatabl\n",
      "eatables -> eatabl\n",
      "eatery -> eateri\n",
      "eateries -> eateri\n",
      "eatting -> eat\n",
      "eatted -> eat\n",
      "eatened -> eaten\n",
      "eatens -> eaten\n",
      "eaties -> eati\n",
      "eaty -> eati\n"
     ]
    }
   ],
   "source": [
    "for word in words:\n",
    "    print(f\"{word} -> {stemmer.stem(word)}\")"
   ]
  },
  {
   "cell_type": "code",
   "execution_count": null,
   "metadata": {},
   "outputs": [],
   "source": []
  }
 ],
 "metadata": {
  "kernelspec": {
   "display_name": "Python 3",
   "language": "python",
   "name": "python3"
  },
  "language_info": {
   "codemirror_mode": {
    "name": "ipython",
    "version": 3
   },
   "file_extension": ".py",
   "mimetype": "text/x-python",
   "name": "python",
   "nbconvert_exporter": "python",
   "pygments_lexer": "ipython3",
   "version": "3.11.0"
  }
 },
 "nbformat": 4,
 "nbformat_minor": 2
}
