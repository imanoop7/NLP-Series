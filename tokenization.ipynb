{
 "cells": [
  {
   "cell_type": "code",
   "execution_count": 1,
   "metadata": {},
   "outputs": [],
   "source": [
    "#tokenization is process of breaking a stream of text up into words, phrases, symbols, or other meaningful elements called tokens\n",
    "#tokenization is the first step in text analytics\n",
    "#tokenization is also referred to as text segmentation or lexical analysis\n",
    "#tokenization is useful because it breaks text into smaller, more manageable pieces\n",
    "#tokenization is used in search engines, natural language processing, and text mining\n",
    "#tokenization is used in machine learning to prepare text for processing\n",
    "#tokenization is used in information retrieval to index and search text\n",
    "#tokenization is used in text analysis to extract features and analyze text"
   ]
  },
  {
   "cell_type": "code",
   "execution_count": 2,
   "metadata": {},
   "outputs": [],
   "source": [
    "corpus = \"\"\"\n",
    "Hi, My name is Anoop Kumar Maurya, This is NLP series, In this series we will learn about NLP.\n",
    "NLP is a field of AI that enables computers to analyze, understand, and generate human language.\n",
    "NLP is used to apply machine learning algorithms to text and speech.\n",
    "\n",
    "\"\"\""
   ]
  },
  {
   "cell_type": "code",
   "execution_count": 5,
   "metadata": {},
   "outputs": [
    {
     "name": "stderr",
     "output_type": "stream",
     "text": [
      "[nltk_data] Downloading package punkt_tab to\n",
      "[nltk_data]     C:\\Users\\anoop\\AppData\\Roaming\\nltk_data...\n",
      "[nltk_data]   Unzipping tokenizers\\punkt_tab.zip.\n"
     ]
    },
    {
     "data": {
      "text/plain": [
       "True"
      ]
     },
     "execution_count": 5,
     "metadata": {},
     "output_type": "execute_result"
    }
   ],
   "source": [
    "import nltk\n",
    "nltk.download('punkt_tab')"
   ]
  },
  {
   "cell_type": "code",
   "execution_count": 6,
   "metadata": {},
   "outputs": [],
   "source": [
    "# Tokenization\n",
    "## sentence --> paragraph --> word\n",
    "\n",
    "from nltk.tokenize import sent_tokenize, word_tokenize"
   ]
  },
  {
   "cell_type": "code",
   "execution_count": 8,
   "metadata": {},
   "outputs": [],
   "source": [
    "document =sent_tokenize(corpus)"
   ]
  },
  {
   "cell_type": "code",
   "execution_count": 9,
   "metadata": {},
   "outputs": [
    {
     "data": {
      "text/plain": [
       "(list,\n",
       " 3,\n",
       " ['\\nHi, My name is Anoop Kumar Maurya, This is NLP series, In this series we will learn about NLP.',\n",
       "  'NLP is a field of AI that enables computers to analyze, understand, and generate human language.',\n",
       "  'NLP is used to apply machine learning algorithms to text and speech.'])"
      ]
     },
     "execution_count": 9,
     "metadata": {},
     "output_type": "execute_result"
    }
   ],
   "source": [
    "type(document), len(document), document"
   ]
  },
  {
   "cell_type": "code",
   "execution_count": 11,
   "metadata": {},
   "outputs": [
    {
     "name": "stdout",
     "output_type": "stream",
     "text": [
      "\n",
      "Hi, My name is Anoop Kumar Maurya, This is NLP series, In this series we will learn about NLP.\n",
      "NLP is a field of AI that enables computers to analyze, understand, and generate human language.\n",
      "NLP is used to apply machine learning algorithms to text and speech.\n"
     ]
    }
   ],
   "source": [
    "for i in document:\n",
    "    print(i)"
   ]
  },
  {
   "cell_type": "code",
   "execution_count": 12,
   "metadata": {},
   "outputs": [
    {
     "data": {
      "text/plain": [
       "['Hi',\n",
       " ',',\n",
       " 'My',\n",
       " 'name',\n",
       " 'is',\n",
       " 'Anoop',\n",
       " 'Kumar',\n",
       " 'Maurya',\n",
       " ',',\n",
       " 'This',\n",
       " 'is',\n",
       " 'NLP',\n",
       " 'series',\n",
       " ',',\n",
       " 'In',\n",
       " 'this',\n",
       " 'series',\n",
       " 'we',\n",
       " 'will',\n",
       " 'learn',\n",
       " 'about',\n",
       " 'NLP',\n",
       " '.',\n",
       " 'NLP',\n",
       " 'is',\n",
       " 'a',\n",
       " 'field',\n",
       " 'of',\n",
       " 'AI',\n",
       " 'that',\n",
       " 'enables',\n",
       " 'computers',\n",
       " 'to',\n",
       " 'analyze',\n",
       " ',',\n",
       " 'understand',\n",
       " ',',\n",
       " 'and',\n",
       " 'generate',\n",
       " 'human',\n",
       " 'language',\n",
       " '.',\n",
       " 'NLP',\n",
       " 'is',\n",
       " 'used',\n",
       " 'to',\n",
       " 'apply',\n",
       " 'machine',\n",
       " 'learning',\n",
       " 'algorithms',\n",
       " 'to',\n",
       " 'text',\n",
       " 'and',\n",
       " 'speech',\n",
       " '.']"
      ]
     },
     "execution_count": 12,
     "metadata": {},
     "output_type": "execute_result"
    }
   ],
   "source": [
    "word_tokenize(corpus)"
   ]
  },
  {
   "cell_type": "code",
   "execution_count": 10,
   "metadata": {},
   "outputs": [
    {
     "name": "stdout",
     "output_type": "stream",
     "text": [
      "['Hi', ',', 'My', 'name', 'is', 'Anoop', 'Kumar', 'Maurya', ',', 'This', 'is', 'NLP', 'series', ',', 'In', 'this', 'series', 'we', 'will', 'learn', 'about', 'NLP', '.']\n",
      "['NLP', 'is', 'a', 'field', 'of', 'AI', 'that', 'enables', 'computers', 'to', 'analyze', ',', 'understand', ',', 'and', 'generate', 'human', 'language', '.']\n",
      "['NLP', 'is', 'used', 'to', 'apply', 'machine', 'learning', 'algorithms', 'to', 'text', 'and', 'speech', '.']\n"
     ]
    }
   ],
   "source": [
    "for sentence in document:\n",
    "    words = word_tokenize(sentence)\n",
    "    print(words)"
   ]
  },
  {
   "cell_type": "code",
   "execution_count": 14,
   "metadata": {},
   "outputs": [
    {
     "data": {
      "text/plain": [
       "['Hi',\n",
       " ',',\n",
       " 'My',\n",
       " 'name',\n",
       " 'is',\n",
       " 'Anoop',\n",
       " 'Kumar',\n",
       " 'Maurya',\n",
       " ',',\n",
       " 'This',\n",
       " 'is',\n",
       " 'NLP',\n",
       " 'series',\n",
       " ',',\n",
       " 'In',\n",
       " 'this',\n",
       " 'series',\n",
       " 'we',\n",
       " 'will',\n",
       " 'learn',\n",
       " 'about',\n",
       " 'NLP',\n",
       " '.',\n",
       " 'NLP',\n",
       " 'is',\n",
       " 'a',\n",
       " 'field',\n",
       " 'of',\n",
       " 'AI',\n",
       " 'that',\n",
       " 'enables',\n",
       " 'computers',\n",
       " 'to',\n",
       " 'analyze',\n",
       " ',',\n",
       " 'understand',\n",
       " ',',\n",
       " 'and',\n",
       " 'generate',\n",
       " 'human',\n",
       " 'language',\n",
       " '.',\n",
       " 'NLP',\n",
       " 'is',\n",
       " 'used',\n",
       " 'to',\n",
       " 'apply',\n",
       " 'machine',\n",
       " 'learning',\n",
       " 'algorithms',\n",
       " 'to',\n",
       " 'text',\n",
       " 'and',\n",
       " 'speech',\n",
       " '.']"
      ]
     },
     "execution_count": 14,
     "metadata": {},
     "output_type": "execute_result"
    }
   ],
   "source": [
    "from nltk.tokenize import wordpunct_tokenize\n",
    "\n",
    "wordpunct_tokenize(corpus)"
   ]
  },
  {
   "cell_type": "code",
   "execution_count": 15,
   "metadata": {},
   "outputs": [
    {
     "data": {
      "text/plain": [
       "'H i,   M y   n a m e   i s   A n o o p   K u m a r   M a u r y a,   T h i s   i s   N L P   s e r i e s,   I n   t h i s   s e r i e s   w e   w i l l   l e a r n   a b o u t   N L P . \\n N L P   i s   a   f i e l d   o f   A I   t h a t   e n a b l e s   c o m p u t e r s   t o   a n a l y z e,   u n d e r s t a n d,   a n d   g e n e r a t e   h u m a n   l a n g u a g e . \\n N L P   i s   u s e d   t o   a p p l y   m a c h i n e   l e a r n i n g   a l g o r i t h m s   t o   t e x t   a n d   s p e e c h.'"
      ]
     },
     "execution_count": 15,
     "metadata": {},
     "output_type": "execute_result"
    }
   ],
   "source": [
    "from nltk.tokenize import TreebankWordDetokenizer\n",
    "\n",
    "TreebankWordDetokenizer().tokenize(corpus)"
   ]
  },
  {
   "cell_type": "code",
   "execution_count": 19,
   "metadata": {},
   "outputs": [
    {
     "name": "stdout",
     "output_type": "stream",
     "text": [
      "['Hi', 'My', 'name', 'is', 'Anoop', 'Kumar', 'Maurya', 'This', 'is', 'NLP', 'series', 'In', 'this', 'series', 'we', 'will', 'learn', 'about', 'NLP', 'NLP', 'is', 'a', 'field', 'of', 'AI', 'that', 'enables', 'computers', 'to', 'analyze', 'understand', 'and', 'generate', 'human', 'language', 'NLP', 'is', 'used', 'to', 'apply', 'machine', 'learning', 'algorithms', 'to', 'text', 'and', 'speech']\n",
      "['Hi', ',', 'My', 'name', 'is', 'Anoop', 'Kumar', 'Maurya', ',', 'This', 'is', 'NLP', 'series', ',', 'In', 'this', 'series', 'we', 'will', 'learn', 'about', 'NLP', '.', 'NLP', 'is', 'a', 'field', 'of', 'AI', 'that', 'enables', 'computers', 'to', 'analyze', ',', 'understand', ',', 'and', 'generate', 'human', 'language', '.', 'NLP', 'is', 'used', 'to', 'apply', 'machine', 'learning', 'algorithms', 'to', 'text', 'and', 'speech', '.']\n"
     ]
    }
   ],
   "source": [
    "from nltk.tokenize import RegexpTokenizer\n",
    "\n",
    "tokenizer = RegexpTokenizer(r'\\w+')\n",
    "print(tokenizer.tokenize(corpus))\n",
    "tokenizer = RegexpTokenizer(r'\\w+|\\$[\\d\\.]+|\\S+')\n",
    "print(tokenizer.tokenize(corpus))"
   ]
  },
  {
   "cell_type": "code",
   "execution_count": null,
   "metadata": {},
   "outputs": [],
   "source": []
  }
 ],
 "metadata": {
  "kernelspec": {
   "display_name": "Python 3",
   "language": "python",
   "name": "python3"
  },
  "language_info": {
   "codemirror_mode": {
    "name": "ipython",
    "version": 3
   },
   "file_extension": ".py",
   "mimetype": "text/x-python",
   "name": "python",
   "nbconvert_exporter": "python",
   "pygments_lexer": "ipython3",
   "version": "3.11.0"
  }
 },
 "nbformat": 4,
 "nbformat_minor": 2
}
