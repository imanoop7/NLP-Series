{
 "cells": [
  {
   "cell_type": "code",
   "execution_count": 11,
   "metadata": {},
   "outputs": [],
   "source": [
    "# lemmetization technique is used to convert the words into their base form or root form.\n",
    "# is like stemming but it is more accurate than stemming.\n",
    "# it is more accurate than stemming because it uses the vocabulary and morphological analysis of words.\n",
    "\n",
    "#usecase -> QnA system, chatbot, search engine, etc."
   ]
  },
  {
   "cell_type": "code",
   "execution_count": 4,
   "metadata": {},
   "outputs": [
    {
     "name": "stderr",
     "output_type": "stream",
     "text": [
      "[nltk_data] Downloading package wordnet to\n",
      "[nltk_data]     C:\\Users\\anoop\\AppData\\Roaming\\nltk_data...\n"
     ]
    },
    {
     "data": {
      "text/plain": [
       "True"
      ]
     },
     "execution_count": 4,
     "metadata": {},
     "output_type": "execute_result"
    }
   ],
   "source": [
    "import nltk\n",
    "nltk.download('wordnet')"
   ]
  },
  {
   "cell_type": "code",
   "execution_count": 5,
   "metadata": {},
   "outputs": [],
   "source": [
    "from nltk.stem import WordNetLemmatizer\n",
    "\n",
    "lemmatizer = WordNetLemmatizer()"
   ]
  },
  {
   "cell_type": "code",
   "execution_count": 6,
   "metadata": {},
   "outputs": [
    {
     "data": {
      "text/plain": [
       "'going'"
      ]
     },
     "execution_count": 6,
     "metadata": {},
     "output_type": "execute_result"
    }
   ],
   "source": [
    "lemmatizer.lemmatize(\"going\") "
   ]
  },
  {
   "cell_type": "code",
   "execution_count": 12,
   "metadata": {},
   "outputs": [
    {
     "data": {
      "text/plain": [
       "'good'"
      ]
     },
     "execution_count": 12,
     "metadata": {},
     "output_type": "execute_result"
    }
   ],
   "source": [
    "'''\n",
    "POS (part of speech) is a tag that is used to identify the category of the words.\n",
    "n - noun\n",
    "v - verb\n",
    "a - adjective\n",
    "r - adverb\n",
    "default is noun\n",
    "'''\n",
    "lemmatizer.lemmatize(\"better\", pos=\"a\") # a is adjective"
   ]
  },
  {
   "cell_type": "code",
   "execution_count": 8,
   "metadata": {},
   "outputs": [],
   "source": [
    "words=[\"write\",\"writing\",\"written\",\"wrote\",\"writer\",\"writers\",\"writings\", \"programmer\", \"programmers\", \"programming\", \"programs\", \"programmed\", \"program\", \"programing\", \n",
    "       \"programmable\", \"programmatically\", \"programmatic\",\"eat\",\"eats\",\"eating\",\"ate\",\"eaten\",\"eater\",\"eaters\",\"eatable\",\"eatables\",\"eatery\",\"eateries\",\"eatting\",\"eatted\",\n",
    "       \"eatened\",\"eatens\",\"eaties\",\"eaty\"]"
   ]
  },
  {
   "cell_type": "code",
   "execution_count": 9,
   "metadata": {},
   "outputs": [
    {
     "name": "stdout",
     "output_type": "stream",
     "text": [
      "write --> write\n",
      "writing --> writing\n",
      "written --> written\n",
      "wrote --> wrote\n",
      "writer --> writer\n",
      "writers --> writer\n",
      "writings --> writing\n",
      "programmer --> programmer\n",
      "programmers --> programmer\n",
      "programming --> programming\n",
      "programs --> program\n",
      "programmed --> programmed\n",
      "program --> program\n",
      "programing --> programing\n",
      "programmable --> programmable\n",
      "programmatically --> programmatically\n",
      "programmatic --> programmatic\n",
      "eat --> eat\n",
      "eats --> eats\n",
      "eating --> eating\n",
      "ate --> ate\n",
      "eaten --> eaten\n",
      "eater --> eater\n",
      "eaters --> eater\n",
      "eatable --> eatable\n",
      "eatables --> eatable\n",
      "eatery --> eatery\n",
      "eateries --> eatery\n",
      "eatting --> eatting\n",
      "eatted --> eatted\n",
      "eatened --> eatened\n",
      "eatens --> eatens\n",
      "eaties --> eaties\n",
      "eaty --> eaty\n"
     ]
    }
   ],
   "source": [
    "for word in words:\n",
    "    print(f\"{word} --> {lemmatizer.lemmatize(word)}\")"
   ]
  },
  {
   "cell_type": "code",
   "execution_count": 10,
   "metadata": {},
   "outputs": [
    {
     "data": {
      "text/plain": [
       "'go'"
      ]
     },
     "execution_count": 10,
     "metadata": {},
     "output_type": "execute_result"
    }
   ],
   "source": [
    "lemmatizer.lemmatize(\"goes\", pos=\"v\") "
   ]
  },
  {
   "cell_type": "code",
   "execution_count": null,
   "metadata": {},
   "outputs": [],
   "source": []
  }
 ],
 "metadata": {
  "kernelspec": {
   "display_name": "Python 3",
   "language": "python",
   "name": "python3"
  },
  "language_info": {
   "codemirror_mode": {
    "name": "ipython",
    "version": 3
   },
   "file_extension": ".py",
   "mimetype": "text/x-python",
   "name": "python",
   "nbconvert_exporter": "python",
   "pygments_lexer": "ipython3",
   "version": "3.11.0"
  }
 },
 "nbformat": 4,
 "nbformat_minor": 2
}
